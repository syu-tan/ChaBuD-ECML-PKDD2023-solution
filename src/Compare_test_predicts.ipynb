{
 "cells": [
  {
   "cell_type": "code",
   "execution_count": 99,
   "id": "1ff25f00-f4e4-4449-9570-90b84abb1614",
   "metadata": {},
   "outputs": [],
   "source": [
    "import os\n",
    "import sys\n",
    "import glob\n",
    "import itertools\n",
    "\n",
    "import cv2\n",
    "import numpy as np\n",
    "import pandas as pd\n",
    "import seaborn as sns\n",
    "import matplotlib.pyplot as plt"
   ]
  },
  {
   "cell_type": "code",
   "execution_count": 100,
   "id": "501fc983-723c-4d7d-828c-c074bb6e1d9c",
   "metadata": {},
   "outputs": [
    {
     "name": "stdout",
     "output_type": "stream",
     "text": [
      "1.24.3 0.12.2\n"
     ]
    }
   ],
   "source": [
    "print(np.__version__, sns.__version__)"
   ]
  },
  {
   "cell_type": "code",
   "execution_count": 101,
   "id": "b00632c8-a62a-4ab9-abb8-5732b914e22c",
   "metadata": {},
   "outputs": [],
   "source": [
    "TEST_ROOT = '../data/003_Test/img/'"
   ]
  },
  {
   "cell_type": "code",
   "execution_count": 109,
   "id": "ca2dafa6-e86e-40ab-b71d-fd2b84acea4e",
   "metadata": {},
   "outputs": [
    {
     "data": {
      "text/plain": [
       "['../submits/clean-pos-idaho_neg-idaho_th0.4',\n",
       " '../submits/clean-pos_neg_th0.4',\n",
       " '../submits/idaho-sia-neg-idaho_th0.3',\n",
       " '../submits/idaho-sia-neg-idaho_th0.4',\n",
       " '../submits/idaho_neg-idaho_th0.4',\n",
       " '../submits/neg_th0.4',\n",
       " '../submits/pos',\n",
       " '../submits/pos_neg_th0.4',\n",
       " '../submits/pos_th0.4',\n",
       " '../submits/sia_pos-idaho_th0.3',\n",
       " '../submits/up16_neg-idaho_th0.3',\n",
       " '../submits/v14-v15_th0.4',\n",
       " '../submits/v64-v15_th0.4',\n",
       " '../submits/v6_v16_v18-v15_v17_th0.4_cloud-postTrue',\n",
       " '../submits/v6_v16_v18-v15_v17_th0.4_cloud-postTrue_no-cloudTrue',\n",
       " '../submits/v6_v64_v14-v15_v17_th0.4']"
      ]
     },
     "metadata": {},
     "output_type": "display_data"
    }
   ],
   "source": [
    "SUBMIT_ROOTS = sorted(glob.glob('../submits/*'))\n",
    "display(SUBMIT_ROOTS)"
   ]
  },
  {
   "cell_type": "code",
   "execution_count": 110,
   "id": "f579a9ec-5fe7-421d-87fa-0432caec6faa",
   "metadata": {},
   "outputs": [
    {
     "name": "stdout",
     "output_type": "stream",
     "text": [
      "16\n"
     ]
    }
   ],
   "source": [
    "n_sub = len(SUBMIT_ROOTS)\n",
    "print(n_sub)"
   ]
  },
  {
   "cell_type": "markdown",
   "id": "121b576d-4ae0-47f1-9b78-05ffa7516a0e",
   "metadata": {},
   "source": [
    "# visualize inferences on test data"
   ]
  },
  {
   "cell_type": "code",
   "execution_count": 67,
   "id": "b149fec0-7ef6-416d-b688-5f59caf1bced",
   "metadata": {},
   "outputs": [],
   "source": [
    "# colors = np.array([4,3,2])  # True color\n",
    "colors = np.array([3,7,2])  # Natural color"
   ]
  },
  {
   "cell_type": "code",
   "execution_count": 68,
   "id": "9618c308-c167-4d73-bf0c-59bc54e52f02",
   "metadata": {},
   "outputs": [
    {
     "name": "stdout",
     "output_type": "stream",
     "text": [
      "68\n"
     ]
    }
   ],
   "source": [
    "test_imgs = sorted(glob.glob(TEST_ROOT+'*.npy'))\n",
    "print(len(test_imgs))"
   ]
  },
  {
   "cell_type": "code",
   "execution_count": 69,
   "id": "731efd50-1227-4317-9852-c7c5106fd7ff",
   "metadata": {},
   "outputs": [
    {
     "name": "stdout",
     "output_type": "stream",
     "text": [
      "10\n"
     ]
    }
   ],
   "source": [
    "print(len(SUBMIT_ROOTS))"
   ]
  },
  {
   "cell_type": "code",
   "execution_count": 70,
   "id": "229e199f-69b0-4a39-ba8e-01de11668aca",
   "metadata": {},
   "outputs": [],
   "source": [
    "PANEL_SIZE = 3"
   ]
  },
  {
   "cell_type": "markdown",
   "id": "d2ff0b7d-b73b-4cd6-a03c-9f0ac09360cb",
   "metadata": {},
   "source": [
    "## Cloud threshold"
   ]
  },
  {
   "cell_type": "code",
   "execution_count": null,
   "id": "7e16cdab-76d8-4733-bf83-66cf1124bfd9",
   "metadata": {},
   "outputs": [],
   "source": [
    "n_cols = 9\n",
    "n_rows = len(test_imgs)\n",
    "print(n_cols, n_rows, len(test_imgs))\n",
    "\n",
    "fig, axes = plt.subplots(n_rows,n_cols,figsize=(PANEL_SIZE*n_cols,PANEL_SIZE*n_rows), tight_layout=True)\n",
    "axes = axes.ravel()\n",
    "i = 0\n",
    "for j, test_img in enumerate(test_imgs):\n",
    "    img = np.load(test_img)\n",
    "    axes[i].imshow((img[:,:,colors+12].clip(0,5000)/5000*255).astype(np.uint8))\n",
    "    axes[i].axis('off')\n",
    "    i+=1\n",
    "    axes[i].imshow((img[:,:,colors].clip(0,5000)/5000*255).astype(np.uint8))\n",
    "    axes[i].axis('off')\n",
    "    i+=1\n",
    "\n",
    "    cloud_path = test_img.replace('../data/003_Test/img/',os.path.join(SUBMIT_ROOTS[0],'visualize/')).replace('.npy','_cloud.png')\n",
    "    cloud = cv2.imread(cloud_path,0)/255.\n",
    "    axes[i].imshow(cloud)\n",
    "    axes[i].axis('off')\n",
    "    if j==0:\n",
    "        axes[i].set_title('cloud_prob')\n",
    "    i+=1\n",
    "    for r in [0.4, 0.5, 0.6, 0.7, 0.8, 0.9]:\n",
    "        axes[i].imshow(cloud>r)\n",
    "        axes[i].axis('off')\n",
    "        if j==0:\n",
    "            axes[i].set_title(f'thr={r}')\n",
    "        i+=1\n",
    "plt.show()"
   ]
  },
  {
   "cell_type": "markdown",
   "id": "3e796316-0609-490c-a1e5-26f95169d348",
   "metadata": {},
   "source": [
    "## Compare models"
   ]
  },
  {
   "cell_type": "code",
   "execution_count": null,
   "id": "8751dc0d-9844-4dae-87d7-183698d3af06",
   "metadata": {},
   "outputs": [],
   "source": [
    "n_cols = 10#n_sub + 3\n",
    "n_rows = len(test_imgs) * 2\n",
    "print(n_cols, n_rows, len(test_imgs))\n",
    "\n",
    "fig, axes = plt.subplots(n_rows,n_cols,figsize=(PANEL_SIZE*n_cols,PANEL_SIZE*n_rows), tight_layout=True)\n",
    "axes = axes.ravel()\n",
    "i = 0\n",
    "for j, test_img in enumerate(test_imgs):\n",
    "    img = np.load(test_img)\n",
    "    axes[i].imshow((img[:,:,colors+12].clip(0,5000)/5000*255).astype(np.uint8))\n",
    "    axes[i].axis('off')\n",
    "    i+=1\n",
    "    axes[i].imshow((img[:,:,colors].clip(0,5000)/5000*255).astype(np.uint8))\n",
    "    axes[i].axis('off')\n",
    "    i+=1\n",
    "\n",
    "    for k, submit_root in enumerate(SUBMIT_ROOTS):\n",
    "        if k==0:\n",
    "            cloud_path = test_img.replace('../data/003_Test/img/',os.path.join(submit_root,'visualize/')).replace('.npy','_cloud.png')\n",
    "            cloud = cv2.imread(cloud_path,0)\n",
    "            axes[i].imshow(cloud>0.8)\n",
    "            axes[i].axis('off')\n",
    "            # if j==0:\n",
    "            if True:\n",
    "                axes[i].set_title('cloud')\n",
    "            i+=1\n",
    "        try:\n",
    "            fire_path = test_img.replace('../data/003_Test/img/',os.path.join(submit_root,'visualize/')).replace('.npy','_fire_sup.png')\n",
    "            fire = cv2.imread(fire_path,0)\n",
    "            axes[i].imshow(fire, vmin=0, vmax=1)\n",
    "            axes[i].axis('off')\n",
    "            # if j==0:\n",
    "            if True:\n",
    "                axes[i].set_title(submit_root.split('/')[2])\n",
    "            i+=1\n",
    "        except Exception as e:\n",
    "            i+=1\n",
    "    i+=1        \n",
    "plt.show()"
   ]
  },
  {
   "cell_type": "markdown",
   "id": "609ddb30-982c-426e-90f2-35b7941d8454",
   "metadata": {},
   "source": [
    "## Model steps"
   ]
  },
  {
   "cell_type": "code",
   "execution_count": null,
   "id": "c0bcea3d-6577-4611-9135-bc5b2718a635",
   "metadata": {},
   "outputs": [],
   "source": [
    "n_cols = 6\n",
    "n_rows = len(test_imgs)\n",
    "print(n_cols, n_rows, len(test_imgs))\n",
    "submit_root = SUBMIT_ROOTS[-1]\n",
    "print(submit_root)\n",
    "\n",
    "fig, axes = plt.subplots(n_rows,n_cols,figsize=(PANEL_SIZE*n_cols,PANEL_SIZE*n_rows), tight_layout=True)\n",
    "axes = axes.ravel()\n",
    "i = 0\n",
    "for j, test_img in enumerate(test_imgs):\n",
    "    img = np.load(test_img)\n",
    "    axes[i].imshow((img[:,:,colors+12].clip(0,5000)/5000*255).astype(np.uint8))\n",
    "    axes[i].axis('off')\n",
    "    i+=1\n",
    "    axes[i].imshow((img[:,:,colors].clip(0,5000)/5000*255).astype(np.uint8))\n",
    "    axes[i].axis('off')\n",
    "    i+=1\n",
    "\n",
    "    cloud_path = test_img.replace('../data/003_Test/img/',os.path.join(submit_root,'visualize/')).replace('.npy','_cloud.png')\n",
    "    cloud = cv2.imread(cloud_path,0)\n",
    "    axes[i].imshow(cloud, vmin=0, vmax=255)\n",
    "    axes[i].axis('off')\n",
    "    if j==0:\n",
    "        axes[i].set_title('cloud')\n",
    "    i+=1\n",
    "\n",
    "    fire_path = test_img.replace('../data/003_Test/img/',os.path.join(submit_root,'visualize/')).replace('.npy','_fire.png')\n",
    "    fire = cv2.imread(fire_path,0)\n",
    "    axes[i].imshow(fire, vmin=0, vmax=255)\n",
    "    axes[i].axis('off')\n",
    "    if j==0:\n",
    "        axes[i].set_title('fire')\n",
    "    i+=1\n",
    "\n",
    "    bin_path = test_img.replace('../data/003_Test/img/',os.path.join(submit_root,'visualize/')).replace('.npy','_fire_bin.png')\n",
    "    fire_bin = cv2.imread(bin_path,0)\n",
    "    axes[i].imshow(fire_bin, vmin=0, vmax=1)\n",
    "    axes[i].axis('off')\n",
    "    if j==0:\n",
    "        axes[i].set_title('fire_bin')\n",
    "    i+=1\n",
    "            \n",
    "    sup_path = test_img.replace('../data/003_Test/img/',os.path.join(submit_root,'visualize/')).replace('.npy','_fire_sup.png')\n",
    "    fire_sup = cv2.imread(sup_path,0)\n",
    "    axes[i].imshow(fire_sup, vmin=0, vmax=1)\n",
    "    axes[i].axis('off')\n",
    "    if j==0:\n",
    "        axes[i].set_title('fire_sup')\n",
    "    i+=1\n",
    "            \n",
    "plt.show()"
   ]
  },
  {
   "cell_type": "code",
   "execution_count": null,
   "id": "cedd3385-9974-4d25-82d5-4f66efd9bdcc",
   "metadata": {},
   "outputs": [],
   "source": []
  }
 ],
 "metadata": {
  "kernelspec": {
   "display_name": "Python 3 (ipykernel)",
   "language": "python",
   "name": "python3"
  },
  "language_info": {
   "codemirror_mode": {
    "name": "ipython",
    "version": 3
   },
   "file_extension": ".py",
   "mimetype": "text/x-python",
   "name": "python",
   "nbconvert_exporter": "python",
   "pygments_lexer": "ipython3",
   "version": "3.9.13"
  }
 },
 "nbformat": 4,
 "nbformat_minor": 5
}
