{
 "cells": [
  {
   "cell_type": "code",
   "execution_count": 1,
   "id": "99e8cfb1-5cc5-49f6-9a8d-bb3d0ca07c96",
   "metadata": {},
   "outputs": [],
   "source": [
    "import os\n",
    "import sys\n",
    "import glob\n",
    "\n",
    "import numpy as np\n",
    "import pandas as pd\n",
    "import seaborn as sns\n",
    "import matplotlib.pyplot as plt"
   ]
  },
  {
   "cell_type": "code",
   "execution_count": 2,
   "id": "4289fef1-3029-4574-8677-1759913fe9c8",
   "metadata": {},
   "outputs": [],
   "source": [
    "# loader.py\n",
    "from typing import List, Tuple\n",
    "\n",
    "import h5py\n",
    "import numpy as np\n",
    "\n",
    "\n",
    "def loader(\n",
    "    hdf5_file: str, folds: List[int]\n",
    ") -> Tuple[np.ndarray, np.ndarray, np.ndarray, List[str]]:\n",
    "    post = []\n",
    "    pre = []\n",
    "    masks = []\n",
    "    names = []\n",
    "\n",
    "    # Read hdf5 file and filter by fold\n",
    "    with h5py.File(hdf5_file, \"r\") as f:\n",
    "        for uuid, values in f.items():\n",
    "            if values.attrs[\"fold\"] not in folds:\n",
    "                continue\n",
    "            if \"pre_fire\" not in values:\n",
    "                continue\n",
    "\n",
    "            post.append(values[\"post_fire\"][...])\n",
    "            pre.append(values[\"pre_fire\"][...])\n",
    "            masks.append(values[\"mask\"][...])\n",
    "            names.append(uuid)\n",
    "\n",
    "    # Convert to numpy arrays\n",
    "    post = np.stack(post, axis=0, dtype=np.int32)\n",
    "    pre = np.stack(pre, axis=0, dtype=np.int32)\n",
    "    masks = np.stack(masks, axis=0, dtype=np.int32)\n",
    "\n",
    "    return post, pre, masks, names"
   ]
  },
  {
   "cell_type": "code",
   "execution_count": 3,
   "id": "0d27a8d1-13ac-459f-a441-e5c1fbeb0847",
   "metadata": {},
   "outputs": [],
   "source": [
    "PATH_ROOT = os.path.join(\"..\", \"data\")\n",
    "PATH_DATASET = f\"{PATH_ROOT}/train_eval.hdf5\""
   ]
  },
  {
   "cell_type": "code",
   "execution_count": 4,
   "id": "2ab870cb-6310-4376-9ce5-df11f35494ae",
   "metadata": {},
   "outputs": [],
   "source": [
    "names = []\n",
    "pres = []\n",
    "posts = []\n",
    "masks = []\n",
    "folds = []\n",
    "comments = []\n",
    "defects = []\n",
    "\n",
    "with h5py.File(PATH_DATASET, 'r') as fp:\n",
    "    for uuid, values in fp.items():\n",
    "        names.append(uuid)\n",
    "        post_img = values[\"post_fire\"][...]\n",
    "        \n",
    "        if 'mask' in values: masks.append(values['mask'][...])\n",
    "        if 'post_fire' in values: posts.append(post_img)\n",
    "        if 'pre_fire' in values: \n",
    "            pres.append(values['pre_fire'][...])\n",
    "            defect = False\n",
    "        else:\n",
    "            pres.append(np.zeros(post_img.shape, dtype=post_img.dtype))\n",
    "            defect = True\n",
    "        folds.append(values.attrs['fold'])\n",
    "        comments.append(values.attrs['comments'])\n",
    "        defects.append(defect)\n",
    "        # if fold!=0: continue\n",
    "        # if \"pre_fire\" not in values: continue\n",
    "        # print(uuid, *[ f'{k}: {v}' for k,v in values.attrs.items() ])\n",
    "        # mask = values['mask'][...]\n",
    "        # plt.imshow(mask)\n",
    "        # plt.show()\n",
    "\n",
    "pres = np.stack(pres)\n",
    "posts = np.stack(posts)\n",
    "masks = np.stack(masks)"
   ]
  },
  {
   "cell_type": "code",
   "execution_count": 5,
   "id": "d2c337c6-3c24-4a9e-b131-ff8781c84736",
   "metadata": {},
   "outputs": [
    {
     "name": "stdout",
     "output_type": "stream",
     "text": [
      "534 534 (534, 512, 512, 12) (534, 512, 512, 12) (534, 512, 512, 1) 534\n"
     ]
    }
   ],
   "source": [
    "print(len(names), len(folds), pres.shape, posts.shape, masks.shape, len(folds))"
   ]
  },
  {
   "cell_type": "code",
   "execution_count": 6,
   "id": "64f6d16b-78f6-4a99-b3be-b123d1dd2979",
   "metadata": {},
   "outputs": [
    {
     "data": {
      "text/plain": [
       "(534, 4)"
      ]
     },
     "execution_count": 6,
     "metadata": {},
     "output_type": "execute_result"
    }
   ],
   "source": [
    "train_eval_df = pd.DataFrame({\n",
    "    'name':names,\n",
    "    'fold': folds,\n",
    "    'comment': comments,\n",
    "    'defect': defects,\n",
    "})\n",
    "train_eval_df.shape"
   ]
  },
  {
   "cell_type": "code",
   "execution_count": 7,
   "id": "cb378870-9d1d-47f5-a280-fc4b49a8c3fc",
   "metadata": {},
   "outputs": [
    {
     "data": {
      "text/html": [
       "<div>\n",
       "<style scoped>\n",
       "    .dataframe tbody tr th:only-of-type {\n",
       "        vertical-align: middle;\n",
       "    }\n",
       "\n",
       "    .dataframe tbody tr th {\n",
       "        vertical-align: top;\n",
       "    }\n",
       "\n",
       "    .dataframe thead th {\n",
       "        text-align: right;\n",
       "    }\n",
       "</style>\n",
       "<table border=\"1\" class=\"dataframe\">\n",
       "  <thead>\n",
       "    <tr style=\"text-align: right;\">\n",
       "      <th></th>\n",
       "      <th>name</th>\n",
       "      <th>fold</th>\n",
       "      <th>comment</th>\n",
       "      <th>defect</th>\n",
       "    </tr>\n",
       "  </thead>\n",
       "  <tbody>\n",
       "    <tr>\n",
       "      <th>29</th>\n",
       "      <td>0ff249de-784d-4760-a039-ed9f92eca60c_0</td>\n",
       "      <td>0</td>\n",
       "      <td>[5, 11]</td>\n",
       "      <td>False</td>\n",
       "    </tr>\n",
       "    <tr>\n",
       "      <th>30</th>\n",
       "      <td>0ff249de-784d-4760-a039-ed9f92eca60c_1</td>\n",
       "      <td>0</td>\n",
       "      <td>[5, 11]</td>\n",
       "      <td>False</td>\n",
       "    </tr>\n",
       "    <tr>\n",
       "      <th>31</th>\n",
       "      <td>0ff249de-784d-4760-a039-ed9f92eca60c_2</td>\n",
       "      <td>0</td>\n",
       "      <td>[5, 11]</td>\n",
       "      <td>False</td>\n",
       "    </tr>\n",
       "    <tr>\n",
       "      <th>34</th>\n",
       "      <td>1087ccdb-44af-4043-845c-d79e00fef8bc_0</td>\n",
       "      <td>0</td>\n",
       "      <td>[2, 11]</td>\n",
       "      <td>False</td>\n",
       "    </tr>\n",
       "    <tr>\n",
       "      <th>75</th>\n",
       "      <td>270908a1-a110-4167-896e-bc0a847b3d31_0</td>\n",
       "      <td>0</td>\n",
       "      <td>[2, 11]</td>\n",
       "      <td>False</td>\n",
       "    </tr>\n",
       "    <tr>\n",
       "      <th>...</th>\n",
       "      <td>...</td>\n",
       "      <td>...</td>\n",
       "      <td>...</td>\n",
       "      <td>...</td>\n",
       "    </tr>\n",
       "    <tr>\n",
       "      <th>347</th>\n",
       "      <td>a3e72d63-ec0c-4c85-a611-74a2567d551f_0</td>\n",
       "      <td>4</td>\n",
       "      <td>[-1]</td>\n",
       "      <td>True</td>\n",
       "    </tr>\n",
       "    <tr>\n",
       "      <th>413</th>\n",
       "      <td>bfdb5b07-95e9-480f-bab8-491778cc7430_0</td>\n",
       "      <td>4</td>\n",
       "      <td>[11]</td>\n",
       "      <td>True</td>\n",
       "    </tr>\n",
       "    <tr>\n",
       "      <th>474</th>\n",
       "      <td>e37635d0-82e8-4003-a594-8010c9cfe3b8_0</td>\n",
       "      <td>4</td>\n",
       "      <td>[2, 11]</td>\n",
       "      <td>True</td>\n",
       "    </tr>\n",
       "    <tr>\n",
       "      <th>478</th>\n",
       "      <td>e4d4dbcb-dd92-40cf-a7fe-fda8dd35f367_0</td>\n",
       "      <td>4</td>\n",
       "      <td>[11]</td>\n",
       "      <td>True</td>\n",
       "    </tr>\n",
       "    <tr>\n",
       "      <th>479</th>\n",
       "      <td>e4d4dbcb-dd92-40cf-a7fe-fda8dd35f367_1</td>\n",
       "      <td>4</td>\n",
       "      <td>[11]</td>\n",
       "      <td>True</td>\n",
       "    </tr>\n",
       "  </tbody>\n",
       "</table>\n",
       "<p>534 rows × 4 columns</p>\n",
       "</div>"
      ],
      "text/plain": [
       "                                       name  fold  comment  defect\n",
       "29   0ff249de-784d-4760-a039-ed9f92eca60c_0     0  [5, 11]   False\n",
       "30   0ff249de-784d-4760-a039-ed9f92eca60c_1     0  [5, 11]   False\n",
       "31   0ff249de-784d-4760-a039-ed9f92eca60c_2     0  [5, 11]   False\n",
       "34   1087ccdb-44af-4043-845c-d79e00fef8bc_0     0  [2, 11]   False\n",
       "75   270908a1-a110-4167-896e-bc0a847b3d31_0     0  [2, 11]   False\n",
       "..                                      ...   ...      ...     ...\n",
       "347  a3e72d63-ec0c-4c85-a611-74a2567d551f_0     4     [-1]    True\n",
       "413  bfdb5b07-95e9-480f-bab8-491778cc7430_0     4     [11]    True\n",
       "474  e37635d0-82e8-4003-a594-8010c9cfe3b8_0     4  [2, 11]    True\n",
       "478  e4d4dbcb-dd92-40cf-a7fe-fda8dd35f367_0     4     [11]    True\n",
       "479  e4d4dbcb-dd92-40cf-a7fe-fda8dd35f367_1     4     [11]    True\n",
       "\n",
       "[534 rows x 4 columns]"
      ]
     },
     "execution_count": 7,
     "metadata": {},
     "output_type": "execute_result"
    }
   ],
   "source": [
    "train_eval_df.sort_values(by=['fold','defect','name'], ascending=[True, True, True], )"
   ]
  },
  {
   "cell_type": "markdown",
   "id": "92faa38c-c6a5-400a-bf86-a2d0044099bf",
   "metadata": {},
   "source": [
    "# sample_submission.csv"
   ]
  },
  {
   "cell_type": "code",
   "execution_count": 8,
   "id": "cd58214c-e80b-4341-b8d4-ffef4f1a8648",
   "metadata": {},
   "outputs": [
    {
     "name": "stdout",
     "output_type": "stream",
     "text": [
      "(449, 3)\n"
     ]
    }
   ],
   "source": [
    "sample_submission_df = pd.read_csv('../data/sample_submission.csv')\n",
    "print(sample_submission_df.shape)"
   ]
  },
  {
   "cell_type": "code",
   "execution_count": 9,
   "id": "a31fcc87-b0ce-4be0-8056-66b2a44c19e8",
   "metadata": {},
   "outputs": [
    {
     "data": {
      "text/html": [
       "<div>\n",
       "<style scoped>\n",
       "    .dataframe tbody tr th:only-of-type {\n",
       "        vertical-align: middle;\n",
       "    }\n",
       "\n",
       "    .dataframe tbody tr th {\n",
       "        vertical-align: top;\n",
       "    }\n",
       "\n",
       "    .dataframe thead th {\n",
       "        text-align: right;\n",
       "    }\n",
       "</style>\n",
       "<table border=\"1\" class=\"dataframe\">\n",
       "  <thead>\n",
       "    <tr style=\"text-align: right;\">\n",
       "      <th></th>\n",
       "      <th>id</th>\n",
       "      <th>rle_mask</th>\n",
       "      <th>index</th>\n",
       "    </tr>\n",
       "  </thead>\n",
       "  <tbody>\n",
       "    <tr>\n",
       "      <th>0</th>\n",
       "      <td>0ff249de-784d-4760-a039-ed9f92eca60c_0</td>\n",
       "      <td>912</td>\n",
       "      <td>0</td>\n",
       "    </tr>\n",
       "    <tr>\n",
       "      <th>1</th>\n",
       "      <td>0ff249de-784d-4760-a039-ed9f92eca60c_0</td>\n",
       "      <td>676</td>\n",
       "      <td>1</td>\n",
       "    </tr>\n",
       "    <tr>\n",
       "      <th>2</th>\n",
       "      <td>0ff249de-784d-4760-a039-ed9f92eca60c_0</td>\n",
       "      <td>363</td>\n",
       "      <td>2</td>\n",
       "    </tr>\n",
       "    <tr>\n",
       "      <th>3</th>\n",
       "      <td>0ff249de-784d-4760-a039-ed9f92eca60c_0</td>\n",
       "      <td>941</td>\n",
       "      <td>3</td>\n",
       "    </tr>\n",
       "    <tr>\n",
       "      <th>4</th>\n",
       "      <td>0ff249de-784d-4760-a039-ed9f92eca60c_0</td>\n",
       "      <td>259252</td>\n",
       "      <td>4</td>\n",
       "    </tr>\n",
       "  </tbody>\n",
       "</table>\n",
       "</div>"
      ],
      "text/plain": [
       "                                       id  rle_mask  index\n",
       "0  0ff249de-784d-4760-a039-ed9f92eca60c_0       912      0\n",
       "1  0ff249de-784d-4760-a039-ed9f92eca60c_0       676      1\n",
       "2  0ff249de-784d-4760-a039-ed9f92eca60c_0       363      2\n",
       "3  0ff249de-784d-4760-a039-ed9f92eca60c_0       941      3\n",
       "4  0ff249de-784d-4760-a039-ed9f92eca60c_0    259252      4"
      ]
     },
     "metadata": {},
     "output_type": "display_data"
    }
   ],
   "source": [
    "display(sample_submission_df.head())"
   ]
  },
  {
   "cell_type": "code",
   "execution_count": 10,
   "id": "6e590d8f-a498-4220-960f-a1fd95849ebd",
   "metadata": {},
   "outputs": [
    {
     "name": "stdout",
     "output_type": "stream",
     "text": [
      "78\n"
     ]
    }
   ],
   "source": [
    "sample_submission_unique_id = set(sample_submission_df.id)\n",
    "print(len(sample_submission_unique_id))"
   ]
  },
  {
   "cell_type": "code",
   "execution_count": 11,
   "id": "5a79c5f6-0bef-4b60-8e32-07cbe638f339",
   "metadata": {},
   "outputs": [],
   "source": [
    "fold_0_has_pre_unique_id = set(train_eval_df[(train_eval_df.fold==0)&(train_eval_df.defect==False)]['name'].values)"
   ]
  },
  {
   "cell_type": "code",
   "execution_count": 12,
   "id": "8bb3f96c-8ddd-4eb9-be54-0d7979917943",
   "metadata": {},
   "outputs": [
    {
     "data": {
      "text/plain": [
       "True"
      ]
     },
     "execution_count": 12,
     "metadata": {},
     "output_type": "execute_result"
    }
   ],
   "source": [
    "sample_submission_unique_id == fold_0_has_pre_unique_id"
   ]
  },
  {
   "cell_type": "markdown",
   "id": "7ca70571-06f1-4b8a-b7a3-0a6b28fec8fd",
   "metadata": {},
   "source": [
    "# prediction.csv"
   ]
  },
  {
   "cell_type": "code",
   "execution_count": 13,
   "id": "e38a32d0-944e-49ef-a1f3-d9cba585a716",
   "metadata": {},
   "outputs": [
    {
     "name": "stdout",
     "output_type": "stream",
     "text": [
      "-rw-r--r--  1 yokoya  staff  1828187  5 13 11:16 ../data/predictions.csv\n"
     ]
    }
   ],
   "source": [
    "# run create_sample_submission.py\n",
    "!cd ../data; python ./create_sample_submission.py\n",
    "!ls -l ../data/predictions.csv"
   ]
  },
  {
   "cell_type": "code",
   "execution_count": 14,
   "id": "b90cb389-1d53-4f38-b554-754ded5e0f39",
   "metadata": {},
   "outputs": [
    {
     "name": "stdout",
     "output_type": "stream",
     "text": [
      "(39130, 3)\n"
     ]
    }
   ],
   "source": [
    "prediction_df = pd.read_csv('../data/predictions.csv')\n",
    "print(prediction_df.shape)"
   ]
  },
  {
   "cell_type": "code",
   "execution_count": 15,
   "id": "e6e424a9-04ad-46d1-82e5-116d587986c1",
   "metadata": {},
   "outputs": [
    {
     "data": {
      "text/html": [
       "<div>\n",
       "<style scoped>\n",
       "    .dataframe tbody tr th:only-of-type {\n",
       "        vertical-align: middle;\n",
       "    }\n",
       "\n",
       "    .dataframe tbody tr th {\n",
       "        vertical-align: top;\n",
       "    }\n",
       "\n",
       "    .dataframe thead th {\n",
       "        text-align: right;\n",
       "    }\n",
       "</style>\n",
       "<table border=\"1\" class=\"dataframe\">\n",
       "  <thead>\n",
       "    <tr style=\"text-align: right;\">\n",
       "      <th></th>\n",
       "      <th>id</th>\n",
       "      <th>rle_mask</th>\n",
       "      <th>index</th>\n",
       "    </tr>\n",
       "  </thead>\n",
       "  <tbody>\n",
       "    <tr>\n",
       "      <th>0</th>\n",
       "      <td>06181a53-1181-427c-9f60-55040bde0a9a_0</td>\n",
       "      <td>51300</td>\n",
       "      <td>0</td>\n",
       "    </tr>\n",
       "    <tr>\n",
       "      <th>1</th>\n",
       "      <td>06181a53-1181-427c-9f60-55040bde0a9a_0</td>\n",
       "      <td>150</td>\n",
       "      <td>1</td>\n",
       "    </tr>\n",
       "    <tr>\n",
       "      <th>2</th>\n",
       "      <td>06181a53-1181-427c-9f60-55040bde0a9a_0</td>\n",
       "      <td>362</td>\n",
       "      <td>2</td>\n",
       "    </tr>\n",
       "    <tr>\n",
       "      <th>3</th>\n",
       "      <td>06181a53-1181-427c-9f60-55040bde0a9a_0</td>\n",
       "      <td>150</td>\n",
       "      <td>3</td>\n",
       "    </tr>\n",
       "    <tr>\n",
       "      <th>4</th>\n",
       "      <td>06181a53-1181-427c-9f60-55040bde0a9a_0</td>\n",
       "      <td>362</td>\n",
       "      <td>4</td>\n",
       "    </tr>\n",
       "  </tbody>\n",
       "</table>\n",
       "</div>"
      ],
      "text/plain": [
       "                                       id  rle_mask  index\n",
       "0  06181a53-1181-427c-9f60-55040bde0a9a_0     51300      0\n",
       "1  06181a53-1181-427c-9f60-55040bde0a9a_0       150      1\n",
       "2  06181a53-1181-427c-9f60-55040bde0a9a_0       362      2\n",
       "3  06181a53-1181-427c-9f60-55040bde0a9a_0       150      3\n",
       "4  06181a53-1181-427c-9f60-55040bde0a9a_0       362      4"
      ]
     },
     "metadata": {},
     "output_type": "display_data"
    }
   ],
   "source": [
    "display(prediction_df.head())"
   ]
  },
  {
   "cell_type": "code",
   "execution_count": 16,
   "id": "bc019580-d5eb-42b0-960f-a04b92edc3bd",
   "metadata": {},
   "outputs": [
    {
     "name": "stdout",
     "output_type": "stream",
     "text": [
      "130\n"
     ]
    }
   ],
   "source": [
    "prediction_unique_id = set(prediction_df.id)\n",
    "print(len(prediction_unique_id))"
   ]
  },
  {
   "cell_type": "code",
   "execution_count": 17,
   "id": "76003d84-594f-44dc-8494-c13717464774",
   "metadata": {},
   "outputs": [],
   "source": [
    "fold_0_unique_id = set(train_eval_df[(train_eval_df.fold==0)]['name'].values)"
   ]
  },
  {
   "cell_type": "code",
   "execution_count": 18,
   "id": "adee019c-7a70-4863-99d7-893cb6d10029",
   "metadata": {},
   "outputs": [
    {
     "data": {
      "text/plain": [
       "True"
      ]
     },
     "execution_count": 18,
     "metadata": {},
     "output_type": "execute_result"
    }
   ],
   "source": [
    "prediction_unique_id == fold_0_unique_id"
   ]
  },
  {
   "cell_type": "code",
   "execution_count": null,
   "id": "b412d137-8ef0-4c6f-90f4-4f49af820c21",
   "metadata": {},
   "outputs": [],
   "source": []
  }
 ],
 "metadata": {
  "kernelspec": {
   "display_name": "Python 3 (ipykernel)",
   "language": "python",
   "name": "python3"
  },
  "language_info": {
   "codemirror_mode": {
    "name": "ipython",
    "version": 3
   },
   "file_extension": ".py",
   "mimetype": "text/x-python",
   "name": "python",
   "nbconvert_exporter": "python",
   "pygments_lexer": "ipython3",
   "version": "3.9.13"
  }
 },
 "nbformat": 4,
 "nbformat_minor": 5
}
